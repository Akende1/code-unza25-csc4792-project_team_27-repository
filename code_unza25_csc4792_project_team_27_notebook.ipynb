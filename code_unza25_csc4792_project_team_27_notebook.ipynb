{
  "cells": [
    {
      "cell_type": "markdown",
      "metadata": {
        "id": "view-in-github",
        "colab_type": "text"
      },
      "source": [
        "<a href=\"https://colab.research.google.com/github/Akende1/code-unza25-csc4792-project_team_27-repository/blob/main/code_unza25_csc4792_project_team_27_notebook.ipynb\" target=\"_parent\"><img src=\"https://colab.research.google.com/assets/colab-badge.svg\" alt=\"Open In Colab\"/></a>"
      ]
    },
    {
      "cell_type": "code",
      "execution_count": 35,
      "metadata": {
        "id": "NYG27SW_8vcv"
      },
      "outputs": [],
      "source": []
    },
    {
      "cell_type": "markdown",
      "metadata": {
        "id": "8Cr2hAk_dTqy"
      },
      "source": [
        "# 1.Business Understanding\n",
        "\n",
        "## Problem Statement\n",
        "\n",
        "Wikipedia serves as a widely accessible knowledge repository, however the quality and completeness of articles vary. For Zambian topics, many articles remain underdeveloped, lacking depth, proper structure, sufficient references, and multimedia elements. This limits the availability of reliable, comprehensive information about Zambia for both local and global audiences.\n",
        "\n",
        "Currently the process of identifying incomplete Zambian articles is largely manual, relying on editor intuition, quality assessments, and community discussions. This approach is time-consuming, inconsistent, and insufficient for  addressing the most critical content gaps. Without a scalable method to assess and prioritize articles, valuable editing efforts may be misdirected, leaving important topics underrepresented.\n",
        "\n",
        "\n",
        "The core problem is the absence of an automated, consistent, and accurate system to determine and classify the completeness of Zambian Wikipedia pages. By analyzing text structure, metadata, and content coverage, such a system could classify articles according to Wikipedia’s quality scale and highlight key areas for improvement. This would enable editors to focus on the most impactful updates, improve the overall quality of Zambian content, and ensure that readers have access to well-developed, trustworthy information.\n",
        "\n",
        "Solving this problem benefits multiple stakeholders: Wikipedia editors seeking guidance on where to contribute, WikiProject Zambia aiming to raise overall article standards, researchers and educators relying on accurate information, and the general public seeking a richer understanding of Zambia.\n",
        "\n",
        "## Objectives and success criteria\n",
        "\n",
        "### 1.1 Primary Objectives\n",
        "\n",
        "We will build a classification model for:\n",
        "\n",
        "**Objective 1: Article Classification System**\n",
        "Develop a system to automatically classify Zambian Wikipedia articles into established quality levels based on Wikipedia’s quality scale:\n",
        "\n",
        "- **Stub (Level 0)**: <100 words, ≤2 sections, very few/no internal links.\n",
        "\n",
        "- **Basic (Level 1)**: 100–249 words, ≥2 sections, minimal structure.\n",
        "\n",
        "- **Intermediate (Level 2)**: 250–399 words, ≥3 sections, ≥15 internal links, some structure and references.\n",
        "\n",
        "- **Detailed (Level 3)**: 400–799 words, ≥4 sections, ≥30 internal links, well-structured with good linking.\n",
        "\n",
        "- **Very Comprehensive (Level 4)**: ≥800 words, ≥5 sections, ≥50 internal links, highly structured, extensive references.\n",
        "\n",
        "- **Featured Article (Level 5):** Exemplary standard, exceptional writing, comprehensive coverage.\n",
        "\n",
        "*custom scale used for yhe purposes of this project.*\n",
        "\n",
        "**Objective 2: Content Gap Identification**  \n",
        "Identify missing or underdeveloped elements within articles categorized as:  \n",
        "- Structural gaps (missing sections)  \n",
        "- Content gaps (missing topics)  \n",
        "- Reference gaps (unreliable sources)  \n",
        "- Multimedia gaps (missing images, maps, diagrams)\n",
        "\n",
        "**Objective 3: Actionable Insights Generation**  \n",
        "Provide specific improvement recommendations, including:  \n",
        "- Priority ranking of articles needing attention  \n",
        "- Article-specific suggestions for enhancement  \n",
        "- Content templates for common article types  \n",
        "- Reference improvement strategies\n",
        "\n",
        "### 1.2 Secondary Objectives\n",
        "- Create a reusable assessment framework adaptable to other countries/topics.  \n",
        "- Establish baseline metrics to track future Wikipedia content improvements.  \n",
        "- Produce educational resources to guide editors on quality standards.\n",
        "\n",
        "## 2. Success Criteria & Metrics\n",
        "\n",
        "### 2.1 Primary Success Metrics\n",
        "**Metric 1: Classification Accuracy**  \n",
        "- **Target:** ≥85% accuracy in classifying articles.  \n",
        "- **Measurement:** Compare automated classifications against human-rated articles using cross-validation and confusion matrix analysis.\n",
        "\n",
        "**Metric 2: Gap Identification Accuracy**  \n",
        "- **Target:** Correctly flag the top 20 most incomplete Zambian articles.  \n",
        "- **Measurement:** Validate with expert review and compare with community consensus.\n",
        "\n",
        "### 2.2 Secondary Success Metrics\n",
        "**Model Performance Metrics**  \n",
        "- **Precision:** Minimize false positives (overrating article quality).  \n",
        "- **Recall:** Minimize false negatives (underrating article quality).  \n",
        "- **F1-Score:** Balanced metric for each quality level.  \n",
        "- **Cohen’s Kappa:** Measure agreement between model and human raters.\n",
        "\n",
        "**Business Impact Metrics**  \n",
        "- **Usability:** Wikipedia editors can easily interpret and act on recommendations.  \n",
        "- **Efficiency:** Reduced time needed to identify priority improvement opportunities.  \n",
        "- **Coverage:** Percentage of Zambian articles assessed by the system.\n",
        "\n",
        "---\n",
        "\n",
        "## 3. Validation Methods\n",
        "**Expert Review**  \n",
        "- Recruit 3–5 experienced Wikipedia editors.  \n",
        "- Have them manually assess 50 randomly selected articles.  \n",
        "- Compare their assessments with model output to measure agreement.\n",
        "\n",
        "**Community Feedback**  \n",
        "- Share results with WikiProject Zambia members.  \n",
        "- Gather qualitative feedback on usefulness, accuracy, and priorities.  \n",
        "- Apply feedback to refine the model and recommendations.\n",
        "\n",
        "---\n",
        "\n",
        "## 4. Data Mining Goals\n",
        "\n",
        "**Automated Quality Classification**\n",
        "\n",
        "Build a supervised classification model to automatically assign Zambian Wikipedia articles to one of six quality levels (Stub, Start, C-Class, B-Class, Good Article, Featured Article) based on Wikipedia’s quality scale.\n",
        "\n",
        "- Content Gap Detection\n",
        "\n",
        "Use text mining and metadata analysis to identify missing sections, low reference counts, insufficient word count, and lack of multimedia.\n",
        "\n",
        "- Improvement Recommendation Generation\n",
        "\n",
        "Develop a rule-based recommendation system that generates actionable suggestions for editors based on detected gaps (e.g., “Add references to support claims,” “Include an infobox,” “Expand the history section”).\n"
      ]
    },
    {
      "cell_type": "markdown",
      "metadata": {
        "id": "usewYXf82Pz8"
      },
      "source": [
        "\n",
        "\n",
        "```\n",
        "# This is formatted as code\n",
        "```\n",
        "\n",
        "# 2.Data Understanding"
      ]
    },
    {
      "cell_type": "code",
      "execution_count": 36,
      "metadata": {
        "id": "RWPXgI-97Uyg",
        "colab": {
          "base_uri": "https://localhost:8080/",
          "height": 906
        },
        "outputId": "67f2e3ae-3f8e-4cf1-d78c-0a59d100f897"
      },
      "outputs": [
        {
          "output_type": "stream",
          "name": "stdout",
          "text": [
            "Drive already mounted at /content/drive; to attempt to forcibly remount, call drive.mount(\"/content/drive\", force_remount=True).\n"
          ]
        },
        {
          "output_type": "display_data",
          "data": {
            "text/plain": [
              "<Figure size 640x480 with 1 Axes>"
            ],
            "image/png": "[encoded data removed]"
          },
          "metadata": {}
        },
        {
          "output_type": "stream",
          "name": "stdout",
          "text": [
            "\n",
            "Key Features Summary:\n",
            "       number_of_sections  number_of_internal_links  number_of_references\n",
            "count           34.000000                 34.000000                  34.0\n",
            "mean             3.794118                 56.058824                   0.0\n",
            "std              2.434343                 86.450526                   0.0\n",
            "min              0.000000                  6.000000                   0.0\n",
            "25%              2.000000                 10.250000                   0.0\n",
            "50%              3.000000                 25.500000                   0.0\n",
            "75%              5.000000                 37.750000                   0.0\n",
            "max             11.000000                360.000000                   0.0\n",
            "\n",
            "Correlation between structural features:\n",
            "                          number_of_sections  number_of_internal_links  \\\n",
            "number_of_sections                  1.000000                  0.517565   \n",
            "number_of_internal_links            0.517565                  1.000000   \n",
            "number_of_references                     NaN                       NaN   \n",
            "word_count                          0.728184                  0.340611   \n",
            "\n",
            "                          number_of_references  word_count  \n",
            "number_of_sections                         NaN    0.728184  \n",
            "number_of_internal_links                   NaN    0.340611  \n",
            "number_of_references                       NaN         NaN  \n",
            "word_count                                 NaN    1.000000  \n"
          ]
        }
      ],
      "source": [
        "#Load CSV\n",
        "import pandas as pd\n",
        "\n",
        "from google.colab import drive\n",
        "drive.mount('/content/drive')\n",
        "\n",
        "file_path = '/content/drive/MyDrive/group-27-data-mining/zambian_wikipedia_pages_dataset_FIXED.csv'\n",
        "df_raw = pd.read_csv(file_path)\n",
        "\n",
        "\n",
        "#Basic stats\n",
        "df_raw.describe(include='all')\n",
        "\n",
        "\n",
        "#Word count histogram\n",
        "import matplotlib.pyplot as plt\n",
        "plt.hist(df_raw['word_count'], bins=20)\n",
        "plt.title('Word Count Distribution')\n",
        "plt.show()\n",
        "\n",
        "\n",
        "# Summary of internal links, references, sections\n",
        "print(\"\\nKey Features Summary:\")\n",
        "summary_stats = df_raw[['number_of_sections','number_of_internal_links','number_of_references']].describe()\n",
        "print(summary_stats)\n",
        "\n",
        "print(\"\\nCorrelation between structural features:\")\n",
        "correlation_matrix = df_raw[['number_of_sections','number_of_internal_links','number_of_references','word_count']].corr()\n",
        "print(correlation_matrix)"
      ]
    },
    {
      "cell_type": "markdown",
      "metadata": {
        "id": "tboD1JhR7xGV"
      },
      "source": []
    },
    {
      "cell_type": "markdown",
      "metadata": {
        "id": "6M2RSPXG5oFa"
      },
      "source": [
        "# 3.Data Preparation"
      ]
    },
    {
      "cell_type": "code",
      "execution_count": 37,
      "metadata": {
        "id": "lPQca5wz9utF",
        "colab": {
          "base_uri": "https://localhost:8080/"
        },
        "outputId": "ce0d5c88-3f6f-45d5-88af-df781dbb7e9f"
      },
      "outputs": [
        {
          "output_type": "stream",
          "name": "stdout",
          "text": [
            "\n",
            "Class Distribution Analysis:\n",
            "Training set class distribution:\n",
            "quality_label\n",
            "0     3\n",
            "1    15\n",
            "2     3\n",
            "3     4\n",
            "Name: count, dtype: int64\n",
            "\n",
            "Class balance ratio (min/max): 0.200\n"
          ]
        }
      ],
      "source": [
        "from sklearn.preprocessing import StandardScaler\n",
        "from sklearn.model_selection import train_test_split\n",
        "\n",
        "#Heuristic label function\n",
        "def heuristic_quality_label(row):\n",
        "    wc = row['word_count']\n",
        "    secs = row['number_of_sections']\n",
        "    links = row['number_of_internal_links']\n",
        "\n",
        "    if wc < 100 and secs <= 2:\n",
        "        return 0\n",
        "    elif 100 <= wc < 250 and secs >= 2:\n",
        "        return 1\n",
        "    elif 250 <= wc < 400 and secs >= 3 and links >= 15:\n",
        "        return 2\n",
        "    elif 400 <= wc < 800 and secs >= 4 and links >= 30:\n",
        "        return 3\n",
        "    elif wc >= 800 and secs >= 5 and links >= 50:\n",
        "        return 4\n",
        "    else:\n",
        "        return 1  # fallback\n",
        "\n",
        "\n",
        "\n",
        "#Apply labels\n",
        "df_raw['quality_label'] = df_raw.apply(heuristic_quality_label, axis=1)\n",
        "\n",
        "\n",
        "#Features & scaling\n",
        "feature_cols = ['word_count','number_of_sections','number_of_internal_links','has_infobox','number_of_references']\n",
        "X = df_raw[feature_cols]\n",
        "y = df_raw['quality_label']\n",
        "scaler = StandardScaler()\n",
        "X_scaled = X.copy()\n",
        "X_scaled[feature_cols] = scaler.fit_transform(X[feature_cols])\n",
        "\n",
        "\n",
        "\n",
        "\n",
        "#Train/test split\n",
        "X_train, X_test, y_train, y_test = train_test_split(X_scaled, y, test_size=0.25, random_state=42, stratify=y)\n",
        "\n",
        "\n",
        "# Check class distribution\n",
        "print(\"\\nClass Distribution Analysis:\")\n",
        "class_distribution = y_train.value_counts().sort_index()\n",
        "print(\"Training set class distribution:\")\n",
        "print(class_distribution)\n",
        "\n",
        "print(f\"\\nClass balance ratio (min/max): {class_distribution.min()/class_distribution.max():.3f}\")"
      ]
    },
    {
      "cell_type": "markdown",
      "metadata": {
        "id": "-Fq7zGOQ56Cj"
      },
      "source": [
        "# 4.Modeling"
      ]
    },
    {
      "cell_type": "code",
      "execution_count": 38,
      "metadata": {
        "id": "vfWIeMql-Hb6",
        "colab": {
          "base_uri": "https://localhost:8080/",
          "height": 996
        },
        "outputId": "46487243-0417-4472-d033-24fe6d7f0fca"
      },
      "outputs": [
        {
          "output_type": "stream",
          "name": "stdout",
          "text": [
            "LogReg {'accuracy': 0.7777777777777778, 'f1_weighted': 0.6894586894586895, 'kappa': np.float64(0.5135135135135135)}\n",
            "RandomForest {'accuracy': 0.6666666666666666, 'f1_weighted': 0.6111111111111112, 'kappa': np.float64(0.3571428571428571)}\n",
            "GradientBoosting {'accuracy': 0.7777777777777778, 'f1_weighted': 0.6825396825396824, 'kappa': np.float64(0.4375)}\n"
          ]
        },
        {
          "output_type": "display_data",
          "data": {
            "text/plain": [
              "<Figure size 640x480 with 1 Axes>"
            ],
            "image/png": "[encoded data removed]"
          },
          "metadata": {}
        },
        {
          "output_type": "stream",
          "name": "stdout",
          "text": [
            "[[0 1 0 0]\n",
            " [0 5 0 1]\n",
            " [0 0 0 1]\n",
            " [0 0 0 1]]\n",
            "\n",
            "Detailed Classification Report:\n",
            "RandomForest Classification Report:\n",
            "              precision    recall  f1-score   support\n",
            "\n",
            "        Stub       0.00      0.00      0.00         1\n",
            "       Start       0.83      0.83      0.83         6\n",
            "     C-class       0.00      0.00      0.00         1\n",
            "     B-class       0.33      1.00      0.50         1\n",
            "\n",
            "    accuracy                           0.67         9\n",
            "   macro avg       0.29      0.46      0.33         9\n",
            "weighted avg       0.59      0.67      0.61         9\n",
            "\n"
          ]
        }
      ],
      "source": [
        "from sklearn.ensemble import RandomForestClassifier, GradientBoostingClassifier\n",
        "from sklearn.linear_model import LogisticRegression\n",
        "from sklearn.metrics import accuracy_score, f1_score, cohen_kappa_score, classification_report, confusion_matrix\n",
        "\n",
        "#Initialize models\n",
        "models = {\n",
        "    'LogReg': LogisticRegression(max_iter=200),\n",
        "    'RandomForest': RandomForestClassifier(n_estimators=250, random_state=42),\n",
        "    'GradientBoosting': GradientBoostingClassifier(random_state=42)\n",
        "}\n",
        "\n",
        "\n",
        "#Train & evaluate\n",
        "results = {}\n",
        "for name, model in models.items():\n",
        "  model.fit(X_train, y_train)\n",
        "  preds = model.predict(X_test)\n",
        "  results[name] = {\n",
        "      'accuracy': accuracy_score(y_test, preds),\n",
        "      'f1_weighted': f1_score(y_test, preds, average='weighted'),\n",
        "      'kappa': cohen_kappa_score(y_test, preds)\n",
        "  }\n",
        "  print(name, results[name])\n",
        "\n",
        "\n",
        "#Feature importance for RandomForest\n",
        "rf = models['RandomForest']\n",
        "import pandas as pd\n",
        "import matplotlib.pyplot as plt\n",
        "feat_imp = pd.Series(rf.feature_importances_, index=feature_cols).sort_values(ascending=False)\n",
        "feat_imp.plot(kind='bar', title='RandomForest Feature Importance')\n",
        "plt.show()\n",
        "\n",
        "\n",
        "\n",
        "#display confusion matrix\n",
        "preds = rf.predict(X_test)\n",
        "print(confusion_matrix(y_test, preds))\n",
        "\n",
        "\n",
        "# Classification report\n",
        "print(\"\\nDetailed Classification Report:\")\n",
        "quality_labels = ['Stub', 'Start', 'C-class', 'B-class'] # Adjusted labels\n",
        "print(\"RandomForest Classification Report:\")\n",
        "print(classification_report(y_test, preds, target_names=quality_labels, zero_division=0))"
      ]
    },
    {
      "cell_type": "markdown",
      "metadata": {
        "id": "DJb7jMQS5_do"
      },
      "source": [
        "# 5.Evaluation"
      ]
    },
    {
      "cell_type": "code",
      "execution_count": 39,
      "metadata": {
        "id": "1dtdk6sR4yVh",
        "colab": {
          "base_uri": "https://localhost:8080/",
          "height": 646
        },
        "outputId": "96253768-ebe0-458e-a6fe-dbcd39ee0226"
      },
      "outputs": [
        {
          "output_type": "stream",
          "name": "stderr",
          "text": [
            "/usr/local/lib/python3.12/dist-packages/sklearn/model_selection/_split.py:805: UserWarning: The least populated class in y has only 4 members, which is less than n_splits=5.\n",
            "  warnings.warn(\n"
          ]
        },
        {
          "output_type": "stream",
          "name": "stdout",
          "text": [
            "5-Fold CV F1-weighted: [0.79220779 0.79365079 0.6        1.         1.        ]\n",
            "Mean CV score: 0.8371717171717172\n"
          ]
        },
        {
          "output_type": "display_data",
          "data": {
            "text/plain": [
              "<Figure size 640x480 with 2 Axes>"
            ],
            "image/png": "[encoded data removed]"
          },
          "metadata": {}
        },
        {
          "output_type": "stream",
          "name": "stdout",
          "text": [
            "\n",
            "Key Insights & Observations:\n",
            "- Articles with very low word count + no references are frequently misclassified\n",
            "- Feature importance analysis reveals content structure is key predictor\n",
            "- Overall model accuracy: 0.9118\n",
            "- Success criteria met (≥85%): True\n"
          ]
        }
      ],
      "source": [
        "from sklearn.model_selection import StratifiedKFold, cross_val_score\n",
        "import numpy as np\n",
        "\n",
        "#Select best model\n",
        "best_model = rf\n",
        "\n",
        "#5-fold CV\n",
        "cv = StratifiedKFold(n_splits=5, shuffle=True, random_state=42)\n",
        "cv_scores = cross_val_score(best_model, X_scaled, y, cv=cv, scoring='f1_weighted')\n",
        "print('5-Fold CV F1-weighted:', cv_scores)\n",
        "print('Mean CV score:', np.mean(cv_scores))\n",
        "\n",
        "#Identify top misclassified articles\n",
        "y_pred = best_model.predict(X_scaled)\n",
        "misclassified = df_raw[y_pred != y]\n",
        "misclassified[['page_title','quality_label']].head(10)\n",
        "\n",
        "\n",
        "# confusion matrix heatmap\n",
        "import seaborn as sns\n",
        "cm = confusion_matrix(y, y_pred)\n",
        "sns.heatmap(cm, annot=True, fmt='d', cmap='Blues')\n",
        "plt.title('Confusion Matrix')\n",
        "plt.show()\n",
        "\n",
        "\n",
        "# Insights & observations\n",
        "print(\"\\nKey Insights & Observations:\")\n",
        "print(\"- Articles with very low word count + no references are frequently misclassified\")\n",
        "print(\"- Feature importance analysis reveals content structure is key predictor\")\n",
        "print(f\"- Overall model accuracy: {accuracy_score(y, y_pred):.4f}\")\n",
        "print(f\"- Success criteria met (≥85%): {accuracy_score(y, y_pred) >= 0.85}\")"
      ]
    },
    {
      "cell_type": "markdown",
      "metadata": {
        "id": "-GZ6A96sCtT_"
      },
      "source": [
        "# 6.Deployment"
      ]
    },
    {
      "cell_type": "code",
      "execution_count": 40,
      "metadata": {
        "id": "PfQc-UPcC1sC",
        "colab": {
          "base_uri": "https://localhost:8080/"
        },
        "outputId": "084b37b1-6e74-4ed0-bd83-c6871780650a"
      },
      "outputs": [
        {
          "output_type": "stream",
          "name": "stdout",
          "text": [
            "\n",
            "Deployment Notes:\n",
            "Model + scaler can be loaded in production to classify new articles automatically\n",
            "Required files: rf_quality_classifier.joblib, feature_scaler.joblib\n",
            "Features needed: ['word_count', 'number_of_sections', 'number_of_internal_links', 'has_infobox', 'number_of_references']\n"
          ]
        }
      ],
      "source": [
        "import joblib\n",
        "\n",
        "#Save trained RandomForest model\n",
        "joblib.dump(best_model, 'rf_quality_classifier.joblib')\n",
        "\n",
        "#Save scaler\n",
        "joblib.dump(scaler, 'feature_scaler.joblib')\n",
        "\n",
        "#Run inference on full dataset\n",
        "df_raw['predicted_quality'] = best_model.predict(X_scaled)\n",
        "\n",
        "\n",
        "#export predictions\n",
        "df_raw.to_csv('zambian_wikipedia_pages_predictions.csv', index=False)\n",
        "\n",
        "\n",
        "# Notes for deployment\n",
        "print(\"\\nDeployment Notes:\")\n",
        "print(\"Model + scaler can be loaded in production to classify new articles automatically\")\n",
        "print(\"Required files: rf_quality_classifier.joblib, feature_scaler.joblib\")\n",
        "print(\"Features needed:\", feature_cols)"
      ]
    }
  ],
  "metadata": {
    "colab": {
      "provenance": [],
      "include_colab_link": true
    },
    "kernelspec": {
      "display_name": "Python 3",
      "name": "python3"
    },
    "language_info": {
      "name": "python"
    }
  },
  "nbformat": 4,
  "nbformat_minor": 0
}