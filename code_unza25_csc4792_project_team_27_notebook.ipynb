{
  "nbformat": 4,
  "nbformat_minor": 0,
  "metadata": {
    "colab": {
      "provenance": [],
      "toc_visible": true,
      "include_colab_link": true
    },
    "kernelspec": {
      "name": "python3",
      "display_name": "Python 3"
    },
    "language_info": {
      "name": "python"
    }
  },
  "cells": [
    {
      "cell_type": "markdown",
      "metadata": {
        "id": "view-in-github",
        "colab_type": "text"
      },
      "source": [
        "<a href=\"https://colab.research.google.com/github/Akende1/code-unza25-csc4792-project_team_27-repository/blob/main/code_unza25_csc4792_project_team_27_notebook.ipynb\" target=\"_parent\"><img src=\"https://colab.research.google.com/assets/colab-badge.svg\" alt=\"Open In Colab\"/></a>"
      ]
    },
    {
      "cell_type": "code",
      "execution_count": null,
      "metadata": {
        "id": "NYG27SW_8vcv"
      },
      "outputs": [],
      "source": []
    },
    {
      "cell_type": "markdown",
      "source": [
        "# 1. Business Understanding\n",
        "\n",
        "## Problem Statement\n",
        "\n",
        "Wikipedia serves as a widely accessible knowledge repository, however the quality and completeness of articles vary. For Zambian topics, many articles remain underdeveloped, lacking depth, proper structure, sufficient references, and multimedia elements. This limits the availability of reliable, comprehensive information about Zambia for both local and global audiences.\n",
        "\n",
        "Currently the process of identifying incomplete Zambian articles is largely manual, relying on editor intuition, quality assessments, and community discussions. This approach is time-consuming, inconsistent, and insufficient for  addressing the most critical content gaps. Without a scalable method to assess and prioritize articles, valuable editing efforts may be misdirected, leaving important topics underrepresented.\n",
        "\n",
        "\n",
        "The core problem is the absence of an automated, consistent, and accurate system to determine and classify the completeness of Zambian Wikipedia pages. By analyzing text structure, metadata, and content coverage, such a system could classify articles according to Wikipedia’s quality scale and highlight key areas for improvement. This would enable editors to focus on the most impactful updates, improve the overall quality of Zambian content, and ensure that readers have access to well-developed, trustworthy information.\n",
        "\n",
        "Solving this problem benefits multiple stakeholders: Wikipedia editors seeking guidance on where to contribute, WikiProject Zambia aiming to raise overall article standards, researchers and educators relying on accurate information, and the general public seeking a richer understanding of Zambia.\n",
        "\n",
        "## Objectives and success criteria\n",
        "\n",
        "### 1.1 Primary Objectives\n",
        "\n",
        "We will build a classification model for:\n",
        "\n",
        "**Objective 1: Article Classification System**\n",
        "Develop a system to automatically classify Zambian Wikipedia articles into established quality levels based on Wikipedia’s quality scale:  \n",
        "- **Stub (Level 0):** <500 words, minimal structure, few/no references.  \n",
        "- **Start (Level 1):** 500–1500 words, basic structure, some references.  \n",
        "- **C-Class (Level 2):** >1500 words, good structure, adequate references.  \n",
        "- **B-Class (Level 3):** Comprehensive coverage, good references, proper structure.  \n",
        "- **Good Article (Level 4):** Meets Wikipedia’s “good article” criteria—well-written, neutral, fully referenced.  \n",
        "- **Featured Article (Level 5):** Exemplary standard, exceptional writing, comprehensive coverage.\n",
        "\n",
        "**Objective 2: Content Gap Identification**  \n",
        "Identify missing or underdeveloped elements within articles categorized as:  \n",
        "- Structural gaps (missing sections)  \n",
        "- Content gaps (missing topics)  \n",
        "- Reference gaps (unreliable sources)  \n",
        "- Multimedia gaps (missing images, maps, diagrams)\n",
        "\n",
        "**Objective 3: Actionable Insights Generation**  \n",
        "Provide specific improvement recommendations, including:  \n",
        "- Priority ranking of articles needing attention  \n",
        "- Article-specific suggestions for enhancement  \n",
        "- Content templates for common article types  \n",
        "- Reference improvement strategies\n",
        "\n",
        "### 1.2 Secondary Objectives\n",
        "- Create a reusable assessment framework adaptable to other countries/topics.  \n",
        "- Establish baseline metrics to track future Wikipedia content improvements.  \n",
        "- Produce educational resources to guide editors on quality standards.\n",
        "\n"
      ],
      "metadata": {
        "id": "8Cr2hAk_dTqy"
      }
    }
  ]
}